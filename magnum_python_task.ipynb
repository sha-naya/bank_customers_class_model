{
 "cells": [
  {
   "cell_type": "markdown",
   "id": "biological-intersection",
   "metadata": {},
   "source": [
    "# Magnum Python Task\n",
    "### Author: Ayan Ashkenov\n",
    "### Date: 15/05/2021"
   ]
  },
  {
   "cell_type": "markdown",
   "id": "numerous-revelation",
   "metadata": {},
   "source": [
    "# -----------------------------------"
   ]
  },
  {
   "cell_type": "markdown",
   "id": "invisible-myrtle",
   "metadata": {},
   "source": [
    "## Imports and settings"
   ]
  },
  {
   "cell_type": "code",
   "execution_count": 1,
   "id": "disciplinary-generation",
   "metadata": {},
   "outputs": [],
   "source": [
    "import pandas as pd\n",
    "import numpy as np\n",
    "import matplotlib.pyplot as plt\n",
    "import seaborn as sns\n",
    "\n",
    "from sklearn import preprocessing\n",
    "from sklearn.preprocessing import StandardScaler\n",
    "from sklearn.neighbors import LocalOutlierFactor\n",
    "from sklearn.tree import DecisionTreeClassifier\n",
    "from sklearn.model_selection import GridSearchCV\n",
    "from sklearn.model_selection import train_test_split\n",
    "from sklearn.metrics import classification_report, balanced_accuracy_score\n",
    "from sklearn import tree\n",
    "\n",
    "pd.set_option('display.max_columns', None)"
   ]
  },
  {
   "cell_type": "markdown",
   "id": "western-acquisition",
   "metadata": {},
   "source": [
    "# -----------------------------------"
   ]
  },
  {
   "cell_type": "markdown",
   "id": "approximate-links",
   "metadata": {},
   "source": [
    "## Load data"
   ]
  },
  {
   "cell_type": "code",
   "execution_count": 2,
   "id": "dutch-regard",
   "metadata": {},
   "outputs": [
    {
     "data": {
      "text/html": [
       "<div>\n",
       "<style scoped>\n",
       "    .dataframe tbody tr th:only-of-type {\n",
       "        vertical-align: middle;\n",
       "    }\n",
       "\n",
       "    .dataframe tbody tr th {\n",
       "        vertical-align: top;\n",
       "    }\n",
       "\n",
       "    .dataframe thead th {\n",
       "        text-align: right;\n",
       "    }\n",
       "</style>\n",
       "<table border=\"1\" class=\"dataframe\">\n",
       "  <thead>\n",
       "    <tr style=\"text-align: right;\">\n",
       "      <th></th>\n",
       "      <th>CLIENTNUM</th>\n",
       "      <th>Flag</th>\n",
       "      <th>Customer_Age</th>\n",
       "      <th>Gender</th>\n",
       "      <th>Dependent_count</th>\n",
       "      <th>Education_Level</th>\n",
       "      <th>Marital_Status</th>\n",
       "      <th>Income_Category</th>\n",
       "      <th>Card_Category</th>\n",
       "      <th>Months_on_book</th>\n",
       "      <th>Total_Relationship_Count</th>\n",
       "      <th>Months_Inactive_12_mon</th>\n",
       "      <th>Contacts_Count_12_mon</th>\n",
       "      <th>Credit_Limit</th>\n",
       "      <th>Total_Revolving_Bal</th>\n",
       "      <th>Avg_Open_To_Buy</th>\n",
       "      <th>Total_Amt_Chng_Q4_Q1</th>\n",
       "      <th>Total_Trans_Amt</th>\n",
       "      <th>Total_Trans_Ct</th>\n",
       "      <th>Total_Ct_Chng_Q4_Q1</th>\n",
       "      <th>Avg_Utilization_Ratio</th>\n",
       "    </tr>\n",
       "  </thead>\n",
       "  <tbody>\n",
       "    <tr>\n",
       "      <th>0</th>\n",
       "      <td>768805383</td>\n",
       "      <td>0</td>\n",
       "      <td>45</td>\n",
       "      <td>M</td>\n",
       "      <td>3</td>\n",
       "      <td>High School</td>\n",
       "      <td>Married</td>\n",
       "      <td>$60K - $80K</td>\n",
       "      <td>Blue</td>\n",
       "      <td>39</td>\n",
       "      <td>5</td>\n",
       "      <td>1</td>\n",
       "      <td>3</td>\n",
       "      <td>12691.0</td>\n",
       "      <td>777</td>\n",
       "      <td>11914.0</td>\n",
       "      <td>1.335</td>\n",
       "      <td>1144</td>\n",
       "      <td>42</td>\n",
       "      <td>1.625</td>\n",
       "      <td>0.061</td>\n",
       "    </tr>\n",
       "    <tr>\n",
       "      <th>1</th>\n",
       "      <td>818770008</td>\n",
       "      <td>0</td>\n",
       "      <td>49</td>\n",
       "      <td>F</td>\n",
       "      <td>5</td>\n",
       "      <td>Graduate</td>\n",
       "      <td>Single</td>\n",
       "      <td>Less than $40K</td>\n",
       "      <td>Blue</td>\n",
       "      <td>44</td>\n",
       "      <td>6</td>\n",
       "      <td>1</td>\n",
       "      <td>2</td>\n",
       "      <td>8256.0</td>\n",
       "      <td>864</td>\n",
       "      <td>7392.0</td>\n",
       "      <td>1.541</td>\n",
       "      <td>1291</td>\n",
       "      <td>33</td>\n",
       "      <td>3.714</td>\n",
       "      <td>0.105</td>\n",
       "    </tr>\n",
       "    <tr>\n",
       "      <th>2</th>\n",
       "      <td>713982108</td>\n",
       "      <td>0</td>\n",
       "      <td>51</td>\n",
       "      <td>M</td>\n",
       "      <td>3</td>\n",
       "      <td>Graduate</td>\n",
       "      <td>Married</td>\n",
       "      <td>$80K - $120K</td>\n",
       "      <td>Blue</td>\n",
       "      <td>36</td>\n",
       "      <td>4</td>\n",
       "      <td>1</td>\n",
       "      <td>0</td>\n",
       "      <td>3418.0</td>\n",
       "      <td>0</td>\n",
       "      <td>3418.0</td>\n",
       "      <td>2.594</td>\n",
       "      <td>1887</td>\n",
       "      <td>20</td>\n",
       "      <td>2.333</td>\n",
       "      <td>0.000</td>\n",
       "    </tr>\n",
       "    <tr>\n",
       "      <th>3</th>\n",
       "      <td>769911858</td>\n",
       "      <td>0</td>\n",
       "      <td>40</td>\n",
       "      <td>F</td>\n",
       "      <td>4</td>\n",
       "      <td>High School</td>\n",
       "      <td>Unknown</td>\n",
       "      <td>Less than $40K</td>\n",
       "      <td>Blue</td>\n",
       "      <td>34</td>\n",
       "      <td>3</td>\n",
       "      <td>4</td>\n",
       "      <td>1</td>\n",
       "      <td>3313.0</td>\n",
       "      <td>2517</td>\n",
       "      <td>796.0</td>\n",
       "      <td>1.405</td>\n",
       "      <td>1171</td>\n",
       "      <td>20</td>\n",
       "      <td>2.333</td>\n",
       "      <td>0.760</td>\n",
       "    </tr>\n",
       "    <tr>\n",
       "      <th>4</th>\n",
       "      <td>709106358</td>\n",
       "      <td>0</td>\n",
       "      <td>40</td>\n",
       "      <td>M</td>\n",
       "      <td>3</td>\n",
       "      <td>Uneducated</td>\n",
       "      <td>Married</td>\n",
       "      <td>$60K - $80K</td>\n",
       "      <td>Blue</td>\n",
       "      <td>21</td>\n",
       "      <td>5</td>\n",
       "      <td>1</td>\n",
       "      <td>0</td>\n",
       "      <td>4716.0</td>\n",
       "      <td>0</td>\n",
       "      <td>4716.0</td>\n",
       "      <td>2.175</td>\n",
       "      <td>816</td>\n",
       "      <td>28</td>\n",
       "      <td>2.500</td>\n",
       "      <td>0.000</td>\n",
       "    </tr>\n",
       "  </tbody>\n",
       "</table>\n",
       "</div>"
      ],
      "text/plain": [
       "   CLIENTNUM  Flag  Customer_Age Gender  Dependent_count Education_Level  \\\n",
       "0  768805383     0            45      M                3     High School   \n",
       "1  818770008     0            49      F                5        Graduate   \n",
       "2  713982108     0            51      M                3        Graduate   \n",
       "3  769911858     0            40      F                4     High School   \n",
       "4  709106358     0            40      M                3      Uneducated   \n",
       "\n",
       "  Marital_Status Income_Category Card_Category  Months_on_book  \\\n",
       "0        Married     $60K - $80K          Blue              39   \n",
       "1         Single  Less than $40K          Blue              44   \n",
       "2        Married    $80K - $120K          Blue              36   \n",
       "3        Unknown  Less than $40K          Blue              34   \n",
       "4        Married     $60K - $80K          Blue              21   \n",
       "\n",
       "   Total_Relationship_Count  Months_Inactive_12_mon  Contacts_Count_12_mon  \\\n",
       "0                         5                       1                      3   \n",
       "1                         6                       1                      2   \n",
       "2                         4                       1                      0   \n",
       "3                         3                       4                      1   \n",
       "4                         5                       1                      0   \n",
       "\n",
       "   Credit_Limit  Total_Revolving_Bal  Avg_Open_To_Buy  Total_Amt_Chng_Q4_Q1  \\\n",
       "0       12691.0                  777          11914.0                 1.335   \n",
       "1        8256.0                  864           7392.0                 1.541   \n",
       "2        3418.0                    0           3418.0                 2.594   \n",
       "3        3313.0                 2517            796.0                 1.405   \n",
       "4        4716.0                    0           4716.0                 2.175   \n",
       "\n",
       "   Total_Trans_Amt  Total_Trans_Ct  Total_Ct_Chng_Q4_Q1  Avg_Utilization_Ratio  \n",
       "0             1144              42                1.625                  0.061  \n",
       "1             1291              33                3.714                  0.105  \n",
       "2             1887              20                2.333                  0.000  \n",
       "3             1171              20                2.333                  0.760  \n",
       "4              816              28                2.500                  0.000  "
      ]
     },
     "execution_count": 2,
     "metadata": {},
     "output_type": "execute_result"
    }
   ],
   "source": [
    "bank_customers: pd.DataFrame = pd.read_csv('/Users/ayan/Desktop/bank_customers.csv')\n",
    "bank_customers.head()"
   ]
  },
  {
   "cell_type": "markdown",
   "id": "stylish-store",
   "metadata": {},
   "source": [
    "# -----------------------------------"
   ]
  },
  {
   "cell_type": "markdown",
   "id": "inside-bronze",
   "metadata": {},
   "source": [
    "## Data exploration\n",
    "#### Let's first look at the shape of our data and glance through some general statistics for each column.\n",
    "Here we have 10,127 rows and 21 columns."
   ]
  },
  {
   "cell_type": "code",
   "execution_count": 3,
   "id": "celtic-clock",
   "metadata": {},
   "outputs": [
    {
     "data": {
      "text/plain": [
       "(10127, 21)"
      ]
     },
     "execution_count": 3,
     "metadata": {},
     "output_type": "execute_result"
    }
   ],
   "source": [
    "bank_customers.shape"
   ]
  },
  {
   "cell_type": "markdown",
   "id": "musical-wireless",
   "metadata": {},
   "source": [
    "The describe() function gives us a quick, raw overview of our data. "
   ]
  },
  {
   "cell_type": "code",
   "execution_count": 4,
   "id": "dress-observation",
   "metadata": {},
   "outputs": [
    {
     "data": {
      "text/html": [
       "<div>\n",
       "<style scoped>\n",
       "    .dataframe tbody tr th:only-of-type {\n",
       "        vertical-align: middle;\n",
       "    }\n",
       "\n",
       "    .dataframe tbody tr th {\n",
       "        vertical-align: top;\n",
       "    }\n",
       "\n",
       "    .dataframe thead th {\n",
       "        text-align: right;\n",
       "    }\n",
       "</style>\n",
       "<table border=\"1\" class=\"dataframe\">\n",
       "  <thead>\n",
       "    <tr style=\"text-align: right;\">\n",
       "      <th></th>\n",
       "      <th>CLIENTNUM</th>\n",
       "      <th>Flag</th>\n",
       "      <th>Customer_Age</th>\n",
       "      <th>Dependent_count</th>\n",
       "      <th>Months_on_book</th>\n",
       "      <th>Total_Relationship_Count</th>\n",
       "      <th>Months_Inactive_12_mon</th>\n",
       "      <th>Contacts_Count_12_mon</th>\n",
       "      <th>Credit_Limit</th>\n",
       "      <th>Total_Revolving_Bal</th>\n",
       "      <th>Avg_Open_To_Buy</th>\n",
       "      <th>Total_Amt_Chng_Q4_Q1</th>\n",
       "      <th>Total_Trans_Amt</th>\n",
       "      <th>Total_Trans_Ct</th>\n",
       "      <th>Total_Ct_Chng_Q4_Q1</th>\n",
       "      <th>Avg_Utilization_Ratio</th>\n",
       "    </tr>\n",
       "  </thead>\n",
       "  <tbody>\n",
       "    <tr>\n",
       "      <th>count</th>\n",
       "      <td>1.012700e+04</td>\n",
       "      <td>10127.000000</td>\n",
       "      <td>10127.000000</td>\n",
       "      <td>10127.000000</td>\n",
       "      <td>10127.000000</td>\n",
       "      <td>10127.000000</td>\n",
       "      <td>10127.000000</td>\n",
       "      <td>10127.000000</td>\n",
       "      <td>10127.000000</td>\n",
       "      <td>10127.000000</td>\n",
       "      <td>10127.000000</td>\n",
       "      <td>10127.000000</td>\n",
       "      <td>10127.000000</td>\n",
       "      <td>10127.000000</td>\n",
       "      <td>10127.000000</td>\n",
       "      <td>10127.000000</td>\n",
       "    </tr>\n",
       "    <tr>\n",
       "      <th>mean</th>\n",
       "      <td>7.391776e+08</td>\n",
       "      <td>0.160660</td>\n",
       "      <td>46.325960</td>\n",
       "      <td>2.346203</td>\n",
       "      <td>35.928409</td>\n",
       "      <td>3.812580</td>\n",
       "      <td>2.341167</td>\n",
       "      <td>2.455317</td>\n",
       "      <td>8631.953698</td>\n",
       "      <td>1162.814061</td>\n",
       "      <td>7469.139637</td>\n",
       "      <td>0.759941</td>\n",
       "      <td>4404.086304</td>\n",
       "      <td>64.858695</td>\n",
       "      <td>0.712222</td>\n",
       "      <td>0.274894</td>\n",
       "    </tr>\n",
       "    <tr>\n",
       "      <th>std</th>\n",
       "      <td>3.690378e+07</td>\n",
       "      <td>0.367235</td>\n",
       "      <td>8.016814</td>\n",
       "      <td>1.298908</td>\n",
       "      <td>7.986416</td>\n",
       "      <td>1.554408</td>\n",
       "      <td>1.010622</td>\n",
       "      <td>1.106225</td>\n",
       "      <td>9088.776650</td>\n",
       "      <td>814.987335</td>\n",
       "      <td>9090.685324</td>\n",
       "      <td>0.219207</td>\n",
       "      <td>3397.129254</td>\n",
       "      <td>23.472570</td>\n",
       "      <td>0.238086</td>\n",
       "      <td>0.275691</td>\n",
       "    </tr>\n",
       "    <tr>\n",
       "      <th>min</th>\n",
       "      <td>7.080821e+08</td>\n",
       "      <td>0.000000</td>\n",
       "      <td>26.000000</td>\n",
       "      <td>0.000000</td>\n",
       "      <td>13.000000</td>\n",
       "      <td>1.000000</td>\n",
       "      <td>0.000000</td>\n",
       "      <td>0.000000</td>\n",
       "      <td>1438.300000</td>\n",
       "      <td>0.000000</td>\n",
       "      <td>3.000000</td>\n",
       "      <td>0.000000</td>\n",
       "      <td>510.000000</td>\n",
       "      <td>10.000000</td>\n",
       "      <td>0.000000</td>\n",
       "      <td>0.000000</td>\n",
       "    </tr>\n",
       "    <tr>\n",
       "      <th>25%</th>\n",
       "      <td>7.130368e+08</td>\n",
       "      <td>0.000000</td>\n",
       "      <td>41.000000</td>\n",
       "      <td>1.000000</td>\n",
       "      <td>31.000000</td>\n",
       "      <td>3.000000</td>\n",
       "      <td>2.000000</td>\n",
       "      <td>2.000000</td>\n",
       "      <td>2555.000000</td>\n",
       "      <td>359.000000</td>\n",
       "      <td>1324.500000</td>\n",
       "      <td>0.631000</td>\n",
       "      <td>2155.500000</td>\n",
       "      <td>45.000000</td>\n",
       "      <td>0.582000</td>\n",
       "      <td>0.023000</td>\n",
       "    </tr>\n",
       "    <tr>\n",
       "      <th>50%</th>\n",
       "      <td>7.179264e+08</td>\n",
       "      <td>0.000000</td>\n",
       "      <td>46.000000</td>\n",
       "      <td>2.000000</td>\n",
       "      <td>36.000000</td>\n",
       "      <td>4.000000</td>\n",
       "      <td>2.000000</td>\n",
       "      <td>2.000000</td>\n",
       "      <td>4549.000000</td>\n",
       "      <td>1276.000000</td>\n",
       "      <td>3474.000000</td>\n",
       "      <td>0.736000</td>\n",
       "      <td>3899.000000</td>\n",
       "      <td>67.000000</td>\n",
       "      <td>0.702000</td>\n",
       "      <td>0.176000</td>\n",
       "    </tr>\n",
       "    <tr>\n",
       "      <th>75%</th>\n",
       "      <td>7.731435e+08</td>\n",
       "      <td>0.000000</td>\n",
       "      <td>52.000000</td>\n",
       "      <td>3.000000</td>\n",
       "      <td>40.000000</td>\n",
       "      <td>5.000000</td>\n",
       "      <td>3.000000</td>\n",
       "      <td>3.000000</td>\n",
       "      <td>11067.500000</td>\n",
       "      <td>1784.000000</td>\n",
       "      <td>9859.000000</td>\n",
       "      <td>0.859000</td>\n",
       "      <td>4741.000000</td>\n",
       "      <td>81.000000</td>\n",
       "      <td>0.818000</td>\n",
       "      <td>0.503000</td>\n",
       "    </tr>\n",
       "    <tr>\n",
       "      <th>max</th>\n",
       "      <td>8.283431e+08</td>\n",
       "      <td>1.000000</td>\n",
       "      <td>73.000000</td>\n",
       "      <td>5.000000</td>\n",
       "      <td>56.000000</td>\n",
       "      <td>6.000000</td>\n",
       "      <td>6.000000</td>\n",
       "      <td>6.000000</td>\n",
       "      <td>34516.000000</td>\n",
       "      <td>2517.000000</td>\n",
       "      <td>34516.000000</td>\n",
       "      <td>3.397000</td>\n",
       "      <td>18484.000000</td>\n",
       "      <td>139.000000</td>\n",
       "      <td>3.714000</td>\n",
       "      <td>0.999000</td>\n",
       "    </tr>\n",
       "  </tbody>\n",
       "</table>\n",
       "</div>"
      ],
      "text/plain": [
       "          CLIENTNUM          Flag  Customer_Age  Dependent_count  \\\n",
       "count  1.012700e+04  10127.000000  10127.000000     10127.000000   \n",
       "mean   7.391776e+08      0.160660     46.325960         2.346203   \n",
       "std    3.690378e+07      0.367235      8.016814         1.298908   \n",
       "min    7.080821e+08      0.000000     26.000000         0.000000   \n",
       "25%    7.130368e+08      0.000000     41.000000         1.000000   \n",
       "50%    7.179264e+08      0.000000     46.000000         2.000000   \n",
       "75%    7.731435e+08      0.000000     52.000000         3.000000   \n",
       "max    8.283431e+08      1.000000     73.000000         5.000000   \n",
       "\n",
       "       Months_on_book  Total_Relationship_Count  Months_Inactive_12_mon  \\\n",
       "count    10127.000000              10127.000000            10127.000000   \n",
       "mean        35.928409                  3.812580                2.341167   \n",
       "std          7.986416                  1.554408                1.010622   \n",
       "min         13.000000                  1.000000                0.000000   \n",
       "25%         31.000000                  3.000000                2.000000   \n",
       "50%         36.000000                  4.000000                2.000000   \n",
       "75%         40.000000                  5.000000                3.000000   \n",
       "max         56.000000                  6.000000                6.000000   \n",
       "\n",
       "       Contacts_Count_12_mon  Credit_Limit  Total_Revolving_Bal  \\\n",
       "count           10127.000000  10127.000000         10127.000000   \n",
       "mean                2.455317   8631.953698          1162.814061   \n",
       "std                 1.106225   9088.776650           814.987335   \n",
       "min                 0.000000   1438.300000             0.000000   \n",
       "25%                 2.000000   2555.000000           359.000000   \n",
       "50%                 2.000000   4549.000000          1276.000000   \n",
       "75%                 3.000000  11067.500000          1784.000000   \n",
       "max                 6.000000  34516.000000          2517.000000   \n",
       "\n",
       "       Avg_Open_To_Buy  Total_Amt_Chng_Q4_Q1  Total_Trans_Amt  Total_Trans_Ct  \\\n",
       "count     10127.000000          10127.000000     10127.000000    10127.000000   \n",
       "mean       7469.139637              0.759941      4404.086304       64.858695   \n",
       "std        9090.685324              0.219207      3397.129254       23.472570   \n",
       "min           3.000000              0.000000       510.000000       10.000000   \n",
       "25%        1324.500000              0.631000      2155.500000       45.000000   \n",
       "50%        3474.000000              0.736000      3899.000000       67.000000   \n",
       "75%        9859.000000              0.859000      4741.000000       81.000000   \n",
       "max       34516.000000              3.397000     18484.000000      139.000000   \n",
       "\n",
       "       Total_Ct_Chng_Q4_Q1  Avg_Utilization_Ratio  \n",
       "count         10127.000000           10127.000000  \n",
       "mean              0.712222               0.274894  \n",
       "std               0.238086               0.275691  \n",
       "min               0.000000               0.000000  \n",
       "25%               0.582000               0.023000  \n",
       "50%               0.702000               0.176000  \n",
       "75%               0.818000               0.503000  \n",
       "max               3.714000               0.999000  "
      ]
     },
     "execution_count": 4,
     "metadata": {},
     "output_type": "execute_result"
    }
   ],
   "source": [
    "bank_customers.describe()"
   ]
  },
  {
   "cell_type": "markdown",
   "id": "corporate-grass",
   "metadata": {},
   "source": [
    "# -----------------------------------"
   ]
  },
  {
   "cell_type": "markdown",
   "id": "ranging-latin",
   "metadata": {},
   "source": [
    "#### There are quite a few categorical features in our data. Let's look at them closer.\n",
    "As we can see, out of 10,127 customers, 8,500 are existing customers and 1,627 no longer hold accounts.  \n",
    "Our classification model will aim to predict if a customer is with the bank or not based on our data, but  \n",
    "more on that later."
   ]
  },
  {
   "cell_type": "code",
   "execution_count": 5,
   "id": "wooden-performance",
   "metadata": {},
   "outputs": [
    {
     "data": {
      "text/plain": [
       "0    8500\n",
       "1    1627\n",
       "Name: Flag, dtype: int64"
      ]
     },
     "execution_count": 5,
     "metadata": {},
     "output_type": "execute_result"
    }
   ],
   "source": [
    "bank_customers['Flag'].value_counts()"
   ]
  },
  {
   "cell_type": "markdown",
   "id": "amber-river",
   "metadata": {},
   "source": [
    "#### Now, let's explore the distribution of marital status, education level, and income of the bank's customers.\n",
    "For this purpose, we will use a pie chart. It is nice and simple, but most importantly, very informative in this case.  \n",
    "As we can clearly see, the vast majority of people are either married or single. However, we do also have a substantial  \n",
    "quantity of unknown cases. These will likely be removed during data cleaning, but more on that later.  \n",
    "  \n",
    "Note: numbers inside pie parts are percentages."
   ]
  },
  {
   "cell_type": "code",
   "execution_count": 6,
   "id": "lonely-chair",
   "metadata": {},
   "outputs": [
    {
     "data": {
      "image/png": "[encoded data removed]",
      "text/plain": [
       "<Figure size 432x288 with 1 Axes>"
      ]
     },
     "metadata": {},
     "output_type": "display_data"
    },
    {
     "data": {
      "text/plain": [
       "<Figure size 720x720 with 0 Axes>"
      ]
     },
     "metadata": {},
     "output_type": "display_data"
    }
   ],
   "source": [
    "marital_status_x: np.ndarray = bank_customers['Marital_Status'].value_counts().to_numpy()\n",
    "marital_status_labels: np.ndarray = bank_customers['Marital_Status'].value_counts().index.to_numpy()\n",
    "marital_status_colors: list = ['b', 'c', 'm', 'g']\n",
    "\n",
    "plt.pie(marital_status_x, labels=marital_status_labels, \n",
    "        colors=marital_status_colors, autopct='%.2f')\n",
    "plt.legend(loc=2, title='Marital Status', bbox_to_anchor=(0.5, -0.15))\n",
    "plt.figure(figsize=(10,10))\n",
    "plt.show()"
   ]
  },
  {
   "cell_type": "markdown",
   "id": "polished-ferry",
   "metadata": {},
   "source": [
    "Numerous issues here, namely that graduate, post-graduate, and doctorate can be placed into one category.  \n",
    "Adding to that, an unhealthy amount of unknowns. These inconsistencies will be fixed in the cleaning stage."
   ]
  },
  {
   "cell_type": "code",
   "execution_count": 7,
   "id": "individual-miami",
   "metadata": {},
   "outputs": [
    {
     "data": {
      "image/png": "[encoded data removed]",
      "text/plain": [
       "<Figure size 432x288 with 1 Axes>"
      ]
     },
     "metadata": {},
     "output_type": "display_data"
    },
    {
     "data": {
      "text/plain": [
       "<Figure size 720x720 with 0 Axes>"
      ]
     },
     "metadata": {},
     "output_type": "display_data"
    }
   ],
   "source": [
    "education_level_x: np.ndarray = bank_customers['Education_Level'].value_counts().to_numpy()\n",
    "education_level_labels: np.ndarray = bank_customers['Education_Level'].value_counts().index.to_numpy()\n",
    "\n",
    "plt.pie(education_level_x, labels=education_level_labels, \n",
    "        autopct='%.2f')\n",
    "plt.legend(loc=2, title='Education Level', bbox_to_anchor=(0.5, -0.15))\n",
    "plt.figure(figsize=(10,10))\n",
    "plt.show()"
   ]
  },
  {
   "cell_type": "markdown",
   "id": "instrumental-rebound",
   "metadata": {},
   "source": [
    "Finally, we find that over a third of the bank's customers earn less than 40,000USD a year.  \n",
    "Additionally, we lack data for almost 11% of customers. It is becoming extremely evident that  \n",
    "our dataset needs a lot of cleaning."
   ]
  },
  {
   "cell_type": "code",
   "execution_count": 8,
   "id": "athletic-oliver",
   "metadata": {},
   "outputs": [
    {
     "data": {
      "image/png": "[encoded data removed]",
      "text/plain": [
       "<Figure size 432x288 with 1 Axes>"
      ]
     },
     "metadata": {},
     "output_type": "display_data"
    },
    {
     "data": {
      "text/plain": [
       "<Figure size 720x720 with 0 Axes>"
      ]
     },
     "metadata": {},
     "output_type": "display_data"
    }
   ],
   "source": [
    "income_category_x: np.ndarray = bank_customers['Income_Category'].value_counts().to_numpy()\n",
    "income_category_labels: np.ndarray = bank_customers['Income_Category'].value_counts().index.to_numpy()\n",
    "\n",
    "plt.pie(income_category_x, labels=income_category_labels, \n",
    "        autopct='%.2f')\n",
    "plt.legend(loc=2, title='Income Category', bbox_to_anchor=(0.5, -0.15))\n",
    "plt.figure(figsize=(10,10))\n",
    "plt.show()"
   ]
  },
  {
   "cell_type": "markdown",
   "id": "specialized-lawyer",
   "metadata": {},
   "source": [
    "# -----------------------------------"
   ]
  },
  {
   "cell_type": "markdown",
   "id": "experimental-brunei",
   "metadata": {},
   "source": [
    "#### It is now time to explore several quantitative variables that will likely yield some discoveries.\n",
    "We will first look at the distribution of time people have spent as the bank's customers.  \n",
    "The average number of months is 35.93, while the longest customers spent 56 months with the bank."
   ]
  },
  {
   "cell_type": "code",
   "execution_count": 9,
   "id": "athletic-foundation",
   "metadata": {},
   "outputs": [
    {
     "data": {
      "text/plain": [
       "count    10127.000000\n",
       "mean        35.928409\n",
       "std          7.986416\n",
       "min         13.000000\n",
       "25%         31.000000\n",
       "50%         36.000000\n",
       "75%         40.000000\n",
       "max         56.000000\n",
       "Name: Months_on_book, dtype: float64"
      ]
     },
     "execution_count": 9,
     "metadata": {},
     "output_type": "execute_result"
    }
   ],
   "source": [
    "bank_customers['Months_on_book'].describe()"
   ]
  },
  {
   "cell_type": "markdown",
   "id": "measured-architecture",
   "metadata": {},
   "source": [
    "Surprisingly, there is little difference in account longevity between customers  \n",
    "who are currently active and those that left. It may very well be that when we perform  \n",
    "feature selection, the Months_on_book variable will be excluded as it will contribute \n",
    "little to our classification model."
   ]
  },
  {
   "cell_type": "code",
   "execution_count": 10,
   "id": "returning-mongolia",
   "metadata": {},
   "outputs": [
    {
     "data": {
      "text/plain": [
       "[Text(0.5, 0, 'State of customer'),\n",
       " Text(0, 0.5, '# of months on book'),\n",
       " Text(0.5, 1.0, 'Current vs Previous Customers Longevity')]"
      ]
     },
     "execution_count": 10,
     "metadata": {},
     "output_type": "execute_result"
    },
    {
     "data": {
      "image/png": "[encoded data removed]",
      "text/plain": [
       "<Figure size 360x360 with 1 Axes>"
      ]
     },
     "metadata": {
      "needs_background": "light"
     },
     "output_type": "display_data"
    }
   ],
   "source": [
    "current_customers_subset: pd.DataFrame = bank_customers[bank_customers['Flag']==0]\n",
    "previous_customers_subset: pd.DataFrame = bank_customers[bank_customers['Flag']==1]\n",
    "months_on_book_current: np.ndarray = current_customers_subset['Months_on_book'].to_numpy()\n",
    "months_on_book_previous: np.ndarray = previous_customers_subset['Months_on_book'].to_numpy()\n",
    "plt.figure(figsize=(5,5))\n",
    "sns.boxplot(data=[months_on_book_current, months_on_book_previous]).set(xlabel='State of customer', ylabel='# of months on book', title='Current vs Previous Customers Longevity')"
   ]
  },
  {
   "cell_type": "markdown",
   "id": "outstanding-section",
   "metadata": {},
   "source": [
    "When it comes to transactions made, however, we can see a very evident divide between current  \n",
    "and previous bank customers. On the other hand, we must keep in mind that this difference is rather  \n",
    "logical, since current customers have likely stayed longer, so they made more transactions.  \n",
    "Regardless, this feature is likely going to play an important role in our classification model."
   ]
  },
  {
   "cell_type": "code",
   "execution_count": 11,
   "id": "posted-basket",
   "metadata": {},
   "outputs": [
    {
     "data": {
      "text/plain": [
       "count    10127.000000\n",
       "mean      4404.086304\n",
       "std       3397.129254\n",
       "min        510.000000\n",
       "25%       2155.500000\n",
       "50%       3899.000000\n",
       "75%       4741.000000\n",
       "max      18484.000000\n",
       "Name: Total_Trans_Amt, dtype: float64"
      ]
     },
     "execution_count": 11,
     "metadata": {},
     "output_type": "execute_result"
    }
   ],
   "source": [
    "bank_customers['Total_Trans_Amt'].describe()"
   ]
  },
  {
   "cell_type": "code",
   "execution_count": 12,
   "id": "after-suffering",
   "metadata": {},
   "outputs": [
    {
     "data": {
      "image/png": "[encoded data removed]",
      "text/plain": [
       "<Figure size 504x360 with 1 Axes>"
      ]
     },
     "metadata": {
      "needs_background": "light"
     },
     "output_type": "display_data"
    }
   ],
   "source": [
    "total_transactions_current: np.ndarray = current_customers_subset['Total_Trans_Amt'].to_numpy()\n",
    "total_transactions_previous: np.ndarray = previous_customers_subset['Total_Trans_Amt'].to_numpy()\n",
    "\n",
    "plt.figure(figsize=(7,5))\n",
    "plt.hist([total_transactions_current, total_transactions_previous], label=['Current', 'Previous'], density=False)\n",
    "plt.xlabel('Amount of transactions')\n",
    "plt.ylabel('Count')\n",
    "plt.title('Current vs Previous Customers Total Transactions')\n",
    "plt.legend(loc=1)\n",
    "plt.show()"
   ]
  },
  {
   "cell_type": "markdown",
   "id": "infectious-queen",
   "metadata": {},
   "source": [
    "# -----------------------------------"
   ]
  },
  {
   "cell_type": "markdown",
   "id": "veterinary-chick",
   "metadata": {},
   "source": [
    "## Data Cleaning and Feature Selection\n",
    "First things first, let's combine graduate, post-graduate, and doctorate categories  \n",
    "in education level column into one."
   ]
  },
  {
   "cell_type": "code",
   "execution_count": 13,
   "id": "necessary-whale",
   "metadata": {},
   "outputs": [
    {
     "data": {
      "text/plain": [
       "graduate       4095\n",
       "high school    2013\n",
       "uneducated     1487\n",
       "bachelor       1013\n",
       "Name: Education_Level, dtype: int64"
      ]
     },
     "execution_count": 13,
     "metadata": {},
     "output_type": "execute_result"
    }
   ],
   "source": [
    "bank_customers['Education_Level']: pd.Series = bank_customers['Education_Level'].map({\n",
    "    'Graduate': 'graduate',\n",
    "    'Post-Graduate': 'graduate',\n",
    "    'Doctorate': 'graduate',\n",
    "    'High School': 'high school',\n",
    "    'College': 'bachelor',\n",
    "    'Uneducated': 'uneducated',\n",
    "    'Unknown': np.nan\n",
    "})\n",
    "bank_customers['Education_Level'].value_counts()"
   ]
  },
  {
   "cell_type": "markdown",
   "id": "reasonable-petite",
   "metadata": {},
   "source": [
    "Now, we will rename the income category column and remap its values to a  \n",
    "more standard format."
   ]
  },
  {
   "cell_type": "code",
   "execution_count": 14,
   "id": "expensive-report",
   "metadata": {},
   "outputs": [
    {
     "data": {
      "text/plain": [
       "less_than_40K     3561\n",
       "40to60K           1790\n",
       "80to120K          1535\n",
       "60to80K           1402\n",
       "more_than_120K     727\n",
       "Name: Income_Category_inUSD, dtype: int64"
      ]
     },
     "execution_count": 14,
     "metadata": {},
     "output_type": "execute_result"
    }
   ],
   "source": [
    "bank_customers['Income_Category']: pd.Series = bank_customers['Income_Category'].map({\n",
    "    'Less than $40K': 'less_than_40K',\n",
    "    '$40K - $60K': '40to60K',\n",
    "    '$60K - $80K': '60to80K',\n",
    "    '$80K - $120K': '80to120K',\n",
    "    '$120K +': 'more_than_120K',\n",
    "    'Unknown': np.nan\n",
    "})\n",
    "bank_customers.rename(columns={'Income_Category': \"Income_Category_inUSD\"}, inplace=True)\n",
    "bank_customers['Income_Category_inUSD'].value_counts()"
   ]
  },
  {
   "cell_type": "markdown",
   "id": "urban-involvement",
   "metadata": {},
   "source": [
    "At this stage, let's take care of missing values and outliers. So far, we still have 10,127 rows in our dataset.  \n",
    "Let's see how many we have left after we remove all rows with at least 1 missing value. "
   ]
  },
  {
   "cell_type": "code",
   "execution_count": 15,
   "id": "curious-calcium",
   "metadata": {},
   "outputs": [
    {
     "data": {
      "text/plain": [
       "(7641, 21)"
      ]
     },
     "execution_count": 15,
     "metadata": {},
     "output_type": "execute_result"
    }
   ],
   "source": [
    "bank_customers_clean: pd.DataFrame = bank_customers.dropna()\n",
    "bank_customers_clean.shape"
   ]
  },
  {
   "cell_type": "markdown",
   "id": "attractive-person",
   "metadata": {},
   "source": [
    "Now, we are at 7,641 rows total. This amount of data should still be satisfactor for our  \n",
    "purposes. There is only one more thing to check, and that is the distribution of our 'Flag'  \n",
    "variable."
   ]
  },
  {
   "cell_type": "code",
   "execution_count": 16,
   "id": "bibliographic-joining",
   "metadata": {},
   "outputs": [
    {
     "data": {
      "text/plain": [
       "0    6430\n",
       "1    1211\n",
       "Name: Flag, dtype: int64"
      ]
     },
     "execution_count": 16,
     "metadata": {},
     "output_type": "execute_result"
    }
   ],
   "source": [
    "bank_customers_clean['Flag'].value_counts()"
   ]
  },
  {
   "cell_type": "markdown",
   "id": "smaller-commission",
   "metadata": {},
   "source": [
    "We still have an adequate amount of customers who left the bank and more than enough  \n",
    "of those that are still banking with the institution. We will have to fix this disbalance  \n",
    "before building our classification models, but more on that later.  \n",
    "  \n",
    "Before that, however, we must do something very important. Since we have categorical variables  \n",
    "in our data, we need to quantify them. For this analysis, we will use a technique called one-hot  \n",
    "encoding."
   ]
  },
  {
   "cell_type": "code",
   "execution_count": 17,
   "id": "killing-increase",
   "metadata": {},
   "outputs": [
    {
     "data": {
      "text/html": [
       "<div>\n",
       "<style scoped>\n",
       "    .dataframe tbody tr th:only-of-type {\n",
       "        vertical-align: middle;\n",
       "    }\n",
       "\n",
       "    .dataframe tbody tr th {\n",
       "        vertical-align: top;\n",
       "    }\n",
       "\n",
       "    .dataframe thead th {\n",
       "        text-align: right;\n",
       "    }\n",
       "</style>\n",
       "<table border=\"1\" class=\"dataframe\">\n",
       "  <thead>\n",
       "    <tr style=\"text-align: right;\">\n",
       "      <th></th>\n",
       "      <th>CLIENTNUM</th>\n",
       "      <th>Flag</th>\n",
       "      <th>Customer_Age</th>\n",
       "      <th>Dependent_count</th>\n",
       "      <th>Months_on_book</th>\n",
       "      <th>Total_Relationship_Count</th>\n",
       "      <th>Months_Inactive_12_mon</th>\n",
       "      <th>Contacts_Count_12_mon</th>\n",
       "      <th>Credit_Limit</th>\n",
       "      <th>Total_Revolving_Bal</th>\n",
       "      <th>Avg_Open_To_Buy</th>\n",
       "      <th>Total_Amt_Chng_Q4_Q1</th>\n",
       "      <th>Total_Trans_Amt</th>\n",
       "      <th>Total_Trans_Ct</th>\n",
       "      <th>Total_Ct_Chng_Q4_Q1</th>\n",
       "      <th>Avg_Utilization_Ratio</th>\n",
       "      <th>Gender_F</th>\n",
       "      <th>Gender_M</th>\n",
       "      <th>Education_Level_bachelor</th>\n",
       "      <th>Education_Level_graduate</th>\n",
       "      <th>Education_Level_high school</th>\n",
       "      <th>Education_Level_uneducated</th>\n",
       "      <th>Marital_Status_Divorced</th>\n",
       "      <th>Marital_Status_Married</th>\n",
       "      <th>Marital_Status_Single</th>\n",
       "      <th>Marital_Status_Unknown</th>\n",
       "      <th>Income_Category_inUSD_40to60K</th>\n",
       "      <th>Income_Category_inUSD_60to80K</th>\n",
       "      <th>Income_Category_inUSD_80to120K</th>\n",
       "      <th>Income_Category_inUSD_less_than_40K</th>\n",
       "      <th>Income_Category_inUSD_more_than_120K</th>\n",
       "      <th>Card_Category_Blue</th>\n",
       "      <th>Card_Category_Gold</th>\n",
       "      <th>Card_Category_Platinum</th>\n",
       "      <th>Card_Category_Silver</th>\n",
       "    </tr>\n",
       "  </thead>\n",
       "  <tbody>\n",
       "    <tr>\n",
       "      <th>0</th>\n",
       "      <td>768805383</td>\n",
       "      <td>0</td>\n",
       "      <td>45</td>\n",
       "      <td>3</td>\n",
       "      <td>39</td>\n",
       "      <td>5</td>\n",
       "      <td>1</td>\n",
       "      <td>3</td>\n",
       "      <td>12691.0</td>\n",
       "      <td>777</td>\n",
       "      <td>11914.0</td>\n",
       "      <td>1.335</td>\n",
       "      <td>1144</td>\n",
       "      <td>42</td>\n",
       "      <td>1.625</td>\n",
       "      <td>0.061</td>\n",
       "      <td>0</td>\n",
       "      <td>1</td>\n",
       "      <td>0</td>\n",
       "      <td>0</td>\n",
       "      <td>1</td>\n",
       "      <td>0</td>\n",
       "      <td>0</td>\n",
       "      <td>1</td>\n",
       "      <td>0</td>\n",
       "      <td>0</td>\n",
       "      <td>0</td>\n",
       "      <td>1</td>\n",
       "      <td>0</td>\n",
       "      <td>0</td>\n",
       "      <td>0</td>\n",
       "      <td>1</td>\n",
       "      <td>0</td>\n",
       "      <td>0</td>\n",
       "      <td>0</td>\n",
       "    </tr>\n",
       "    <tr>\n",
       "      <th>1</th>\n",
       "      <td>818770008</td>\n",
       "      <td>0</td>\n",
       "      <td>49</td>\n",
       "      <td>5</td>\n",
       "      <td>44</td>\n",
       "      <td>6</td>\n",
       "      <td>1</td>\n",
       "      <td>2</td>\n",
       "      <td>8256.0</td>\n",
       "      <td>864</td>\n",
       "      <td>7392.0</td>\n",
       "      <td>1.541</td>\n",
       "      <td>1291</td>\n",
       "      <td>33</td>\n",
       "      <td>3.714</td>\n",
       "      <td>0.105</td>\n",
       "      <td>1</td>\n",
       "      <td>0</td>\n",
       "      <td>0</td>\n",
       "      <td>1</td>\n",
       "      <td>0</td>\n",
       "      <td>0</td>\n",
       "      <td>0</td>\n",
       "      <td>0</td>\n",
       "      <td>1</td>\n",
       "      <td>0</td>\n",
       "      <td>0</td>\n",
       "      <td>0</td>\n",
       "      <td>0</td>\n",
       "      <td>1</td>\n",
       "      <td>0</td>\n",
       "      <td>1</td>\n",
       "      <td>0</td>\n",
       "      <td>0</td>\n",
       "      <td>0</td>\n",
       "    </tr>\n",
       "    <tr>\n",
       "      <th>2</th>\n",
       "      <td>713982108</td>\n",
       "      <td>0</td>\n",
       "      <td>51</td>\n",
       "      <td>3</td>\n",
       "      <td>36</td>\n",
       "      <td>4</td>\n",
       "      <td>1</td>\n",
       "      <td>0</td>\n",
       "      <td>3418.0</td>\n",
       "      <td>0</td>\n",
       "      <td>3418.0</td>\n",
       "      <td>2.594</td>\n",
       "      <td>1887</td>\n",
       "      <td>20</td>\n",
       "      <td>2.333</td>\n",
       "      <td>0.000</td>\n",
       "      <td>0</td>\n",
       "      <td>1</td>\n",
       "      <td>0</td>\n",
       "      <td>1</td>\n",
       "      <td>0</td>\n",
       "      <td>0</td>\n",
       "      <td>0</td>\n",
       "      <td>1</td>\n",
       "      <td>0</td>\n",
       "      <td>0</td>\n",
       "      <td>0</td>\n",
       "      <td>0</td>\n",
       "      <td>1</td>\n",
       "      <td>0</td>\n",
       "      <td>0</td>\n",
       "      <td>1</td>\n",
       "      <td>0</td>\n",
       "      <td>0</td>\n",
       "      <td>0</td>\n",
       "    </tr>\n",
       "    <tr>\n",
       "      <th>3</th>\n",
       "      <td>769911858</td>\n",
       "      <td>0</td>\n",
       "      <td>40</td>\n",
       "      <td>4</td>\n",
       "      <td>34</td>\n",
       "      <td>3</td>\n",
       "      <td>4</td>\n",
       "      <td>1</td>\n",
       "      <td>3313.0</td>\n",
       "      <td>2517</td>\n",
       "      <td>796.0</td>\n",
       "      <td>1.405</td>\n",
       "      <td>1171</td>\n",
       "      <td>20</td>\n",
       "      <td>2.333</td>\n",
       "      <td>0.760</td>\n",
       "      <td>1</td>\n",
       "      <td>0</td>\n",
       "      <td>0</td>\n",
       "      <td>0</td>\n",
       "      <td>1</td>\n",
       "      <td>0</td>\n",
       "      <td>0</td>\n",
       "      <td>0</td>\n",
       "      <td>0</td>\n",
       "      <td>1</td>\n",
       "      <td>0</td>\n",
       "      <td>0</td>\n",
       "      <td>0</td>\n",
       "      <td>1</td>\n",
       "      <td>0</td>\n",
       "      <td>1</td>\n",
       "      <td>0</td>\n",
       "      <td>0</td>\n",
       "      <td>0</td>\n",
       "    </tr>\n",
       "    <tr>\n",
       "      <th>4</th>\n",
       "      <td>709106358</td>\n",
       "      <td>0</td>\n",
       "      <td>40</td>\n",
       "      <td>3</td>\n",
       "      <td>21</td>\n",
       "      <td>5</td>\n",
       "      <td>1</td>\n",
       "      <td>0</td>\n",
       "      <td>4716.0</td>\n",
       "      <td>0</td>\n",
       "      <td>4716.0</td>\n",
       "      <td>2.175</td>\n",
       "      <td>816</td>\n",
       "      <td>28</td>\n",
       "      <td>2.500</td>\n",
       "      <td>0.000</td>\n",
       "      <td>0</td>\n",
       "      <td>1</td>\n",
       "      <td>0</td>\n",
       "      <td>0</td>\n",
       "      <td>0</td>\n",
       "      <td>1</td>\n",
       "      <td>0</td>\n",
       "      <td>1</td>\n",
       "      <td>0</td>\n",
       "      <td>0</td>\n",
       "      <td>0</td>\n",
       "      <td>1</td>\n",
       "      <td>0</td>\n",
       "      <td>0</td>\n",
       "      <td>0</td>\n",
       "      <td>1</td>\n",
       "      <td>0</td>\n",
       "      <td>0</td>\n",
       "      <td>0</td>\n",
       "    </tr>\n",
       "  </tbody>\n",
       "</table>\n",
       "</div>"
      ],
      "text/plain": [
       "   CLIENTNUM  Flag  Customer_Age  Dependent_count  Months_on_book  \\\n",
       "0  768805383     0            45                3              39   \n",
       "1  818770008     0            49                5              44   \n",
       "2  713982108     0            51                3              36   \n",
       "3  769911858     0            40                4              34   \n",
       "4  709106358     0            40                3              21   \n",
       "\n",
       "   Total_Relationship_Count  Months_Inactive_12_mon  Contacts_Count_12_mon  \\\n",
       "0                         5                       1                      3   \n",
       "1                         6                       1                      2   \n",
       "2                         4                       1                      0   \n",
       "3                         3                       4                      1   \n",
       "4                         5                       1                      0   \n",
       "\n",
       "   Credit_Limit  Total_Revolving_Bal  Avg_Open_To_Buy  Total_Amt_Chng_Q4_Q1  \\\n",
       "0       12691.0                  777          11914.0                 1.335   \n",
       "1        8256.0                  864           7392.0                 1.541   \n",
       "2        3418.0                    0           3418.0                 2.594   \n",
       "3        3313.0                 2517            796.0                 1.405   \n",
       "4        4716.0                    0           4716.0                 2.175   \n",
       "\n",
       "   Total_Trans_Amt  Total_Trans_Ct  Total_Ct_Chng_Q4_Q1  \\\n",
       "0             1144              42                1.625   \n",
       "1             1291              33                3.714   \n",
       "2             1887              20                2.333   \n",
       "3             1171              20                2.333   \n",
       "4              816              28                2.500   \n",
       "\n",
       "   Avg_Utilization_Ratio  Gender_F  Gender_M  Education_Level_bachelor  \\\n",
       "0                  0.061         0         1                         0   \n",
       "1                  0.105         1         0                         0   \n",
       "2                  0.000         0         1                         0   \n",
       "3                  0.760         1         0                         0   \n",
       "4                  0.000         0         1                         0   \n",
       "\n",
       "   Education_Level_graduate  Education_Level_high school  \\\n",
       "0                         0                            1   \n",
       "1                         1                            0   \n",
       "2                         1                            0   \n",
       "3                         0                            1   \n",
       "4                         0                            0   \n",
       "\n",
       "   Education_Level_uneducated  Marital_Status_Divorced  \\\n",
       "0                           0                        0   \n",
       "1                           0                        0   \n",
       "2                           0                        0   \n",
       "3                           0                        0   \n",
       "4                           1                        0   \n",
       "\n",
       "   Marital_Status_Married  Marital_Status_Single  Marital_Status_Unknown  \\\n",
       "0                       1                      0                       0   \n",
       "1                       0                      1                       0   \n",
       "2                       1                      0                       0   \n",
       "3                       0                      0                       1   \n",
       "4                       1                      0                       0   \n",
       "\n",
       "   Income_Category_inUSD_40to60K  Income_Category_inUSD_60to80K  \\\n",
       "0                              0                              1   \n",
       "1                              0                              0   \n",
       "2                              0                              0   \n",
       "3                              0                              0   \n",
       "4                              0                              1   \n",
       "\n",
       "   Income_Category_inUSD_80to120K  Income_Category_inUSD_less_than_40K  \\\n",
       "0                               0                                    0   \n",
       "1                               0                                    1   \n",
       "2                               1                                    0   \n",
       "3                               0                                    1   \n",
       "4                               0                                    0   \n",
       "\n",
       "   Income_Category_inUSD_more_than_120K  Card_Category_Blue  \\\n",
       "0                                     0                   1   \n",
       "1                                     0                   1   \n",
       "2                                     0                   1   \n",
       "3                                     0                   1   \n",
       "4                                     0                   1   \n",
       "\n",
       "   Card_Category_Gold  Card_Category_Platinum  Card_Category_Silver  \n",
       "0                   0                       0                     0  \n",
       "1                   0                       0                     0  \n",
       "2                   0                       0                     0  \n",
       "3                   0                       0                     0  \n",
       "4                   0                       0                     0  "
      ]
     },
     "execution_count": 17,
     "metadata": {},
     "output_type": "execute_result"
    }
   ],
   "source": [
    "bank_customers_clean: pd.DataFrame = pd.get_dummies(bank_customers_clean)\n",
    "bank_customers_clean.head()"
   ]
  },
  {
   "cell_type": "markdown",
   "id": "fuzzy-exercise",
   "metadata": {},
   "source": [
    "As a result of our one-hot encoding, we now have 35 columns."
   ]
  },
  {
   "cell_type": "code",
   "execution_count": 18,
   "id": "improving-peoples",
   "metadata": {},
   "outputs": [
    {
     "data": {
      "text/plain": [
       "(7641, 35)"
      ]
     },
     "execution_count": 18,
     "metadata": {},
     "output_type": "execute_result"
    }
   ],
   "source": [
    "bank_customers_clean.shape"
   ]
  },
  {
   "cell_type": "markdown",
   "id": "loving-plaza",
   "metadata": {},
   "source": [
    "# -----------------------------------"
   ]
  },
  {
   "cell_type": "markdown",
   "id": "express-publisher",
   "metadata": {},
   "source": [
    "## Classification Prep  \n",
    "First, we will divide the data into train and test sets.  \n",
    "\n",
    "Then, we will normalize the x_train set because our data has different units of measurement.  \n",
    "\n",
    "Finally, we will remove outliers using the Local Outlier Factor (LOF) algorithm. It is an   \n",
    "unsupervised learning technique that works by examining each data point and calculating its  \n",
    "LOF score, which is based on the local reachability score of its neighbors.  "
   ]
  },
  {
   "cell_type": "code",
   "execution_count": 20,
   "id": "japanese-excitement",
   "metadata": {},
   "outputs": [],
   "source": [
    "x_data: pd.DataFrame = bank_customers_clean.drop(['CLIENTNUM', 'Flag'], axis=1)\n",
    "y_data: pd.DataFrame = pd.DataFrame(bank_customers_clean[\"Flag\"])\n",
    "x_train, x_test, y_train, y_test = train_test_split(x_data, y_data, test_size=0.20)"
   ]
  },
  {
   "cell_type": "markdown",
   "id": "threatened-suite",
   "metadata": {},
   "source": [
    "Note: when we normalize our x_train set, we must also normalize our x_test set."
   ]
  },
  {
   "cell_type": "code",
   "execution_count": 21,
   "id": "green-recycling",
   "metadata": {},
   "outputs": [],
   "source": [
    "standard_scaler = preprocessing.StandardScaler()\n",
    "x_train_norm: np.ndarray = standard_scaler.fit_transform(x_train)\n",
    "x_test_norm: np.ndarray = standard_scaler.fit_transform(x_test)"
   ]
  },
  {
   "cell_type": "code",
   "execution_count": 22,
   "id": "massive-curtis",
   "metadata": {},
   "outputs": [],
   "source": [
    "#Courtesy of Dr. Jason Brownlee\n",
    "lof_model = LocalOutlierFactor()\n",
    "outlier_designation: np.ndarray = lof_model.fit_predict(x_train_norm)\n",
    "outlier_designation_tf: np.ndarray = outlier_designation != -1\n",
    "x_train_lof, y_train_lof = x_train_norm[outlier_designation_tf, :], y_train[outlier_designation_tf]"
   ]
  },
  {
   "cell_type": "markdown",
   "id": "stunning-gathering",
   "metadata": {},
   "source": [
    "# -----------------------------------"
   ]
  },
  {
   "cell_type": "markdown",
   "id": "existing-tuner",
   "metadata": {},
   "source": [
    "## Classification Model\n",
    "We will use the decision tree algorithm as our classification model. Banks often use decision trees  \n",
    "to select people that are qualified for loans, so it is logical to utilize a similar approach in  \n",
    "this case as well. \n",
    "\n",
    "A decision tree starts at the root node, where it asks the first question before sending a customer  \n",
    "to the left or right. Then, depending on the first question, another question is asked or the customer  \n",
    "is already classified.  \n",
    "\n",
    "To finetune our parameters, we will implement the grid search algorithm.  \n",
    "\n",
    "Note: maximum depth for grid search was set to 33 because there are 33 features in our model and  \n",
    "it was decided to keep the model as simple as possible, although it is not guaranteed that all  \n",
    "33 features will be used given this depth."
   ]
  },
  {
   "cell_type": "code",
   "execution_count": 23,
   "id": "contrary-florida",
   "metadata": {},
   "outputs": [
    {
     "data": {
      "text/plain": [
       "GridSearchCV(estimator=DecisionTreeClassifier(),\n",
       "             param_grid={'max_depth': [10, 11, 12, 13, 14, 15, 16, 17, 18, 19,\n",
       "                                       20, 21, 22, 23, 24, 25, 26, 27, 28, 29,\n",
       "                                       30, 31, 32, 33],\n",
       "                         'max_features': ['auto', 'sqrt', 'log2'],\n",
       "                         'min_weight_fraction_leaf': [0.0, 0.1, 0.2,\n",
       "                                                      0.30000000000000004, 0.4,\n",
       "                                                      0.5]},\n",
       "             scoring='balanced_accuracy')"
      ]
     },
     "execution_count": 23,
     "metadata": {},
     "output_type": "execute_result"
    }
   ],
   "source": [
    "dec_tree_model = DecisionTreeClassifier()\n",
    "depth_range:list = list(range(10, 34))\n",
    "min_weight_fraction_range: list = np.arange(0.0, 0.6, 0.1).tolist()\n",
    "dec_tree_parameters: dict = {'max_depth': depth_range, \n",
    "              'min_weight_fraction_leaf': min_weight_fraction_range, \n",
    "              'max_features': ['auto','sqrt','log2']}\n",
    "grid_search_model = GridSearchCV(dec_tree_model, dec_tree_parameters, scoring='balanced_accuracy')\n",
    "grid_search_model.fit(x_train_lof, y_train_lof)"
   ]
  },
  {
   "cell_type": "markdown",
   "id": "closed-hunger",
   "metadata": {},
   "source": [
    "A great thing about running a grid search algorithm in sklearn is that it returns  \n",
    "the best model, which can be immediately used further on. For instance, to find  \n",
    "the best parameters, we just do the following."
   ]
  },
  {
   "cell_type": "code",
   "execution_count": 24,
   "id": "electrical-concrete",
   "metadata": {},
   "outputs": [
    {
     "data": {
      "text/plain": [
       "{'max_depth': 12, 'max_features': 'sqrt', 'min_weight_fraction_leaf': 0.0}"
      ]
     },
     "execution_count": 24,
     "metadata": {},
     "output_type": "execute_result"
    }
   ],
   "source": [
    "grid_search_model.best_params_"
   ]
  },
  {
   "cell_type": "markdown",
   "id": "introductory-running",
   "metadata": {},
   "source": [
    "Let's look at our classification report.  "
   ]
  },
  {
   "cell_type": "code",
   "execution_count": 25,
   "id": "civilian-meeting",
   "metadata": {},
   "outputs": [
    {
     "name": "stdout",
     "output_type": "stream",
     "text": [
      "              precision    recall  f1-score   support\n",
      "\n",
      "           0       0.95      0.95      0.95      1288\n",
      "           1       0.74      0.71      0.73       241\n",
      "\n",
      "    accuracy                           0.92      1529\n",
      "   macro avg       0.84      0.83      0.84      1529\n",
      "weighted avg       0.91      0.92      0.91      1529\n",
      "\n"
     ]
    }
   ],
   "source": [
    "y_pred: np.ndarray = grid_search_model.predict(x_test_norm)\n",
    "print(classification_report(y_test, y_pred))"
   ]
  },
  {
   "cell_type": "markdown",
   "id": "double-opposition",
   "metadata": {},
   "source": [
    "Now, our balanced accuracy score too."
   ]
  },
  {
   "cell_type": "code",
   "execution_count": 26,
   "id": "labeled-tulsa",
   "metadata": {},
   "outputs": [
    {
     "data": {
      "text/plain": [
       "0.8318680575242906"
      ]
     },
     "execution_count": 26,
     "metadata": {},
     "output_type": "execute_result"
    }
   ],
   "source": [
    "balanced_accuracy_score(y_test, y_pred)"
   ]
  },
  {
   "cell_type": "markdown",
   "id": "dated-bernard",
   "metadata": {},
   "source": [
    "Lastly, we will visualize our decision tree.  \n",
    "\n",
    "Note: we will keep the maximum depth of the plot to 5 in order to fit the  \n",
    "image somewhat decently on screen. In reality, our tree is much deeper, a whole  \n",
    "12 levels deep.  \n",
    "\n",
    "Note 2: Please ignore the awkward text print out before the plot. Seems like there  \n",
    "is no option to remove it."
   ]
  },
  {
   "cell_type": "code",
   "execution_count": 27,
   "id": "significant-fleece",
   "metadata": {},
   "outputs": [
    {
     "data": {
      "text/plain": [
       "[Text(297.10817307692304, 504.7714285714286, 'Income_Category_inUSD_60to80K <= 0.947\\ngini = 0.267\\nsamples = 6093\\nvalue = [5125, 968]\\nclass = False'),\n",
       " Text(169.68028846153845, 427.11428571428576, 'Months_Inactive_12_mon <= -0.833\\ngini = 0.273\\nsamples = 5143\\nvalue = [4303, 840]\\nclass = False'),\n",
       " Text(85.84615384615384, 349.4571428571429, 'Months_on_book <= -1.938\\ngini = 0.095\\nsamples = 1135\\nvalue = [1078, 57]\\nclass = False'),\n",
       " Text(42.92307692307692, 271.8, 'Avg_Utilization_Ratio <= -0.921\\ngini = 0.398\\nsamples = 62\\nvalue = [45, 17]\\nclass = False'),\n",
       " Text(21.46153846153846, 194.14285714285717, 'Total_Trans_Amt <= 0.477\\ngini = 0.5\\nsamples = 20\\nvalue = [10, 10]\\nclass = False'),\n",
       " Text(10.73076923076923, 116.48571428571432, 'Total_Ct_Chng_Q4_Q1 <= -0.62\\ngini = 0.397\\nsamples = 11\\nvalue = [8, 3]\\nclass = False'),\n",
       " Text(5.365384615384615, 38.82857142857142, '\\n  (...)  \\n'),\n",
       " Text(16.096153846153847, 38.82857142857142, '\\n  (...)  \\n'),\n",
       " Text(32.19230769230769, 116.48571428571432, 'Customer_Age <= -2.05\\ngini = 0.346\\nsamples = 9\\nvalue = [2, 7]\\nclass = True'),\n",
       " Text(26.826923076923073, 38.82857142857142, '\\n  (...)  \\n'),\n",
       " Text(37.55769230769231, 38.82857142857142, '\\n  (...)  \\n'),\n",
       " Text(64.38461538461539, 194.14285714285717, 'Total_Amt_Chng_Q4_Q1 <= -0.524\\ngini = 0.278\\nsamples = 42\\nvalue = [35, 7]\\nclass = False'),\n",
       " Text(53.653846153846146, 116.48571428571432, 'Avg_Open_To_Buy <= -0.537\\ngini = 0.494\\nsamples = 9\\nvalue = [5, 4]\\nclass = False'),\n",
       " Text(48.28846153846153, 38.82857142857142, '\\n  (...)  \\n'),\n",
       " Text(59.01923076923077, 38.82857142857142, '\\n  (...)  \\n'),\n",
       " Text(75.11538461538461, 116.48571428571432, 'Avg_Utilization_Ratio <= 0.307\\ngini = 0.165\\nsamples = 33\\nvalue = [30, 3]\\nclass = False'),\n",
       " Text(69.75, 38.82857142857142, '\\n  (...)  \\n'),\n",
       " Text(80.48076923076923, 38.82857142857142, '\\n  (...)  \\n'),\n",
       " Text(128.76923076923077, 271.8, 'Total_Amt_Chng_Q4_Q1 <= -1.022\\ngini = 0.072\\nsamples = 1073\\nvalue = [1033, 40]\\nclass = False'),\n",
       " Text(107.30769230769229, 194.14285714285717, 'Marital_Status_Married <= 0.074\\ngini = 0.228\\nsamples = 99\\nvalue = [86, 13]\\nclass = False'),\n",
       " Text(96.57692307692307, 116.48571428571432, 'Marital_Status_Unknown <= 1.637\\ngini = 0.32\\nsamples = 50\\nvalue = [40, 10]\\nclass = False'),\n",
       " Text(91.21153846153845, 38.82857142857142, '\\n  (...)  \\n'),\n",
       " Text(101.94230769230768, 38.82857142857142, '\\n  (...)  \\n'),\n",
       " Text(118.03846153846153, 116.48571428571432, 'Total_Revolving_Bal <= -0.542\\ngini = 0.115\\nsamples = 49\\nvalue = [46, 3]\\nclass = False'),\n",
       " Text(112.67307692307692, 38.82857142857142, '\\n  (...)  \\n'),\n",
       " Text(123.40384615384615, 38.82857142857142, '\\n  (...)  \\n'),\n",
       " Text(150.23076923076923, 194.14285714285717, 'Total_Ct_Chng_Q4_Q1 <= -1.695\\ngini = 0.054\\nsamples = 974\\nvalue = [947, 27]\\nclass = False'),\n",
       " Text(139.5, 116.48571428571432, 'Credit_Limit <= 0.461\\ngini = 0.5\\nsamples = 10\\nvalue = [5, 5]\\nclass = False'),\n",
       " Text(134.1346153846154, 38.82857142857142, '\\n  (...)  \\n'),\n",
       " Text(144.8653846153846, 38.82857142857142, '\\n  (...)  \\n'),\n",
       " Text(160.96153846153845, 116.48571428571432, 'Months_on_book <= 1.062\\ngini = 0.045\\nsamples = 964\\nvalue = [942, 22]\\nclass = False'),\n",
       " Text(155.59615384615384, 38.82857142857142, '\\n  (...)  \\n'),\n",
       " Text(166.32692307692307, 38.82857142857142, '\\n  (...)  \\n'),\n",
       " Text(253.51442307692307, 349.4571428571429, 'Total_Amt_Chng_Q4_Q1 <= -1.342\\ngini = 0.314\\nsamples = 4008\\nvalue = [3225, 783]\\nclass = False'),\n",
       " Text(214.61538461538458, 271.8, 'Customer_Age <= 1.273\\ngini = 0.488\\nsamples = 224\\nvalue = [95, 129]\\nclass = True'),\n",
       " Text(193.15384615384613, 194.14285714285717, 'Total_Trans_Ct <= -0.14\\ngini = 0.464\\nsamples = 191\\nvalue = [70, 121]\\nclass = True'),\n",
       " Text(182.4230769230769, 116.48571428571432, 'Total_Revolving_Bal <= -0.742\\ngini = 0.384\\nsamples = 158\\nvalue = [41, 117]\\nclass = True'),\n",
       " Text(177.0576923076923, 38.82857142857142, '\\n  (...)  \\n'),\n",
       " Text(187.78846153846152, 38.82857142857142, '\\n  (...)  \\n'),\n",
       " Text(203.88461538461536, 116.48571428571432, 'Months_on_book <= -1.75\\ngini = 0.213\\nsamples = 33\\nvalue = [29, 4]\\nclass = False'),\n",
       " Text(198.51923076923075, 38.82857142857142, '\\n  (...)  \\n'),\n",
       " Text(209.24999999999997, 38.82857142857142, '\\n  (...)  \\n'),\n",
       " Text(236.07692307692307, 194.14285714285717, 'Months_Inactive_12_mon <= 2.168\\ngini = 0.367\\nsamples = 33\\nvalue = [25, 8]\\nclass = False'),\n",
       " Text(225.34615384615384, 116.48571428571432, 'Avg_Utilization_Ratio <= -0.877\\ngini = 0.293\\nsamples = 28\\nvalue = [23, 5]\\nclass = False'),\n",
       " Text(219.98076923076923, 38.82857142857142, '\\n  (...)  \\n'),\n",
       " Text(230.71153846153845, 38.82857142857142, '\\n  (...)  \\n'),\n",
       " Text(246.8076923076923, 116.48571428571432, 'Total_Trans_Ct <= -1.188\\ngini = 0.48\\nsamples = 5\\nvalue = [2, 3]\\nclass = True'),\n",
       " Text(241.44230769230768, 38.82857142857142, '\\n  (...)  \\n'),\n",
       " Text(252.1730769230769, 38.82857142857142, '\\n  (...)  \\n'),\n",
       " Text(292.4134615384615, 271.8, 'Total_Ct_Chng_Q4_Q1 <= -0.951\\ngini = 0.286\\nsamples = 3784\\nvalue = [3130, 654]\\nclass = False'),\n",
       " Text(279.0, 194.14285714285717, 'Marital_Status_Married <= 0.074\\ngini = 0.491\\nsamples = 443\\nvalue = [192, 251]\\nclass = True'),\n",
       " Text(268.2692307692308, 116.48571428571432, 'Total_Trans_Ct <= -0.056\\ngini = 0.472\\nsamples = 228\\nvalue = [87, 141]\\nclass = True'),\n",
       " Text(262.90384615384613, 38.82857142857142, '\\n  (...)  \\n'),\n",
       " Text(273.63461538461536, 38.82857142857142, '\\n  (...)  \\n'),\n",
       " Text(289.7307692307692, 116.48571428571432, 'Total_Trans_Amt <= -0.666\\ngini = 0.5\\nsamples = 215\\nvalue = [105, 110]\\nclass = True'),\n",
       " Text(284.3653846153846, 38.82857142857142, '\\n  (...)  \\n'),\n",
       " Text(295.0961538461538, 38.82857142857142, '\\n  (...)  \\n'),\n",
       " Text(305.82692307692304, 194.14285714285717, 'Months_on_book <= -2.063\\ngini = 0.212\\nsamples = 3341\\nvalue = [2938, 403]\\nclass = False'),\n",
       " Text(300.46153846153845, 116.48571428571432, 'gini = 0.0\\nsamples = 83\\nvalue = [83, 0]\\nclass = False'),\n",
       " Text(311.1923076923077, 116.48571428571432, 'Total_Trans_Ct <= -0.559\\ngini = 0.217\\nsamples = 3258\\nvalue = [2855, 403]\\nclass = False'),\n",
       " Text(305.82692307692304, 38.82857142857142, '\\n  (...)  \\n'),\n",
       " Text(316.55769230769226, 38.82857142857142, '\\n  (...)  \\n'),\n",
       " Text(424.5360576923077, 427.11428571428576, 'Dependent_count <= -1.44\\ngini = 0.233\\nsamples = 950\\nvalue = [822, 128]\\nclass = False'),\n",
       " Text(368.87019230769226, 349.4571428571429, 'Avg_Utilization_Ratio <= -0.914\\ngini = 0.323\\nsamples = 74\\nvalue = [59, 15]\\nclass = False'),\n",
       " Text(343.38461538461536, 271.8, 'Marital_Status_Single <= 0.228\\ngini = 0.496\\nsamples = 22\\nvalue = [12, 10]\\nclass = False'),\n",
       " Text(327.2884615384615, 194.14285714285717, 'Months_on_book <= -2.188\\ngini = 0.32\\nsamples = 10\\nvalue = [8, 2]\\nclass = False'),\n",
       " Text(321.9230769230769, 116.48571428571432, 'gini = 0.0\\nsamples = 1\\nvalue = [0, 1]\\nclass = True'),\n",
       " Text(332.65384615384613, 116.48571428571432, 'Total_Trans_Amt <= -0.598\\ngini = 0.198\\nsamples = 9\\nvalue = [8, 1]\\nclass = False'),\n",
       " Text(327.2884615384615, 38.82857142857142, '\\n  (...)  \\n'),\n",
       " Text(338.0192307692307, 38.82857142857142, '\\n  (...)  \\n'),\n",
       " Text(359.4807692307692, 194.14285714285717, 'Education_Level_high school <= 0.615\\ngini = 0.444\\nsamples = 12\\nvalue = [4, 8]\\nclass = True'),\n",
       " Text(354.1153846153846, 116.48571428571432, 'Total_Trans_Amt <= -0.144\\ngini = 0.5\\nsamples = 8\\nvalue = [4, 4]\\nclass = False'),\n",
       " Text(348.75, 38.82857142857142, '\\n  (...)  \\n'),\n",
       " Text(359.4807692307692, 38.82857142857142, '\\n  (...)  \\n'),\n",
       " Text(364.8461538461538, 116.48571428571432, 'gini = 0.0\\nsamples = 4\\nvalue = [0, 4]\\nclass = True'),\n",
       " Text(394.3557692307692, 271.8, 'Avg_Open_To_Buy <= -0.091\\ngini = 0.174\\nsamples = 52\\nvalue = [47, 5]\\nclass = False'),\n",
       " Text(380.9423076923077, 194.14285714285717, 'Customer_Age <= -1.674\\ngini = 0.069\\nsamples = 28\\nvalue = [27, 1]\\nclass = False'),\n",
       " Text(375.57692307692304, 116.48571428571432, 'Avg_Utilization_Ratio <= 0.825\\ngini = 0.245\\nsamples = 7\\nvalue = [6, 1]\\nclass = False'),\n",
       " Text(370.21153846153845, 38.82857142857142, '\\n  (...)  \\n'),\n",
       " Text(380.9423076923077, 38.82857142857142, '\\n  (...)  \\n'),\n",
       " Text(386.30769230769226, 116.48571428571432, 'gini = 0.0\\nsamples = 21\\nvalue = [21, 0]\\nclass = False'),\n",
       " Text(407.7692307692307, 194.14285714285717, 'Total_Trans_Amt <= 1.142\\ngini = 0.278\\nsamples = 24\\nvalue = [20, 4]\\nclass = False'),\n",
       " Text(397.0384615384615, 116.48571428571432, 'Total_Ct_Chng_Q4_Q1 <= -1.458\\ngini = 0.188\\nsamples = 19\\nvalue = [17, 2]\\nclass = False'),\n",
       " Text(391.6730769230769, 38.82857142857142, '\\n  (...)  \\n'),\n",
       " Text(402.40384615384613, 38.82857142857142, '\\n  (...)  \\n'),\n",
       " Text(418.49999999999994, 116.48571428571432, 'Contacts_Count_12_mon <= 0.04\\ngini = 0.48\\nsamples = 5\\nvalue = [3, 2]\\nclass = False'),\n",
       " Text(413.13461538461536, 38.82857142857142, '\\n  (...)  \\n'),\n",
       " Text(423.8653846153846, 38.82857142857142, '\\n  (...)  \\n'),\n",
       " Text(480.20192307692304, 349.4571428571429, 'Card_Category_Blue <= -1.656\\ngini = 0.225\\nsamples = 876\\nvalue = [763, 113]\\nclass = False'),\n",
       " Text(445.32692307692304, 271.8, 'Avg_Utilization_Ratio <= -0.753\\ngini = 0.174\\nsamples = 83\\nvalue = [75, 8]\\nclass = False'),\n",
       " Text(434.5961538461538, 194.14285714285717, 'Total_Ct_Chng_Q4_Q1 <= -1.761\\ngini = 0.124\\nsamples = 75\\nvalue = [70, 5]\\nclass = False'),\n",
       " Text(429.23076923076917, 116.48571428571432, 'gini = 0.0\\nsamples = 2\\nvalue = [0, 2]\\nclass = True'),\n",
       " Text(439.96153846153845, 116.48571428571432, 'Total_Ct_Chng_Q4_Q1 <= 0.883\\ngini = 0.079\\nsamples = 73\\nvalue = [70, 3]\\nclass = False'),\n",
       " Text(434.5961538461538, 38.82857142857142, '\\n  (...)  \\n'),\n",
       " Text(445.32692307692304, 38.82857142857142, '\\n  (...)  \\n'),\n",
       " Text(456.05769230769226, 194.14285714285717, 'Education_Level_graduate <= 0.051\\ngini = 0.469\\nsamples = 8\\nvalue = [5, 3]\\nclass = False'),\n",
       " Text(450.6923076923077, 116.48571428571432, 'gini = 0.0\\nsamples = 2\\nvalue = [0, 2]\\nclass = True'),\n",
       " Text(461.4230769230769, 116.48571428571432, 'Credit_Limit <= 2.491\\ngini = 0.278\\nsamples = 6\\nvalue = [5, 1]\\nclass = False'),\n",
       " Text(456.05769230769226, 38.82857142857142, '\\n  (...)  \\n'),\n",
       " Text(466.7884615384615, 38.82857142857142, '\\n  (...)  \\n'),\n",
       " Text(515.0769230769231, 271.8, 'Total_Trans_Ct <= -0.35\\ngini = 0.23\\nsamples = 793\\nvalue = [688, 105]\\nclass = False'),\n",
       " Text(493.6153846153846, 194.14285714285717, 'Avg_Utilization_Ratio <= -0.841\\ngini = 0.411\\nsamples = 322\\nvalue = [229, 93]\\nclass = False'),\n",
       " Text(482.88461538461536, 116.48571428571432, 'Months_on_book <= -0.313\\ngini = 0.466\\nsamples = 100\\nvalue = [37, 63]\\nclass = True'),\n",
       " Text(477.5192307692307, 38.82857142857142, '\\n  (...)  \\n'),\n",
       " Text(488.24999999999994, 38.82857142857142, '\\n  (...)  \\n'),\n",
       " Text(504.3461538461538, 116.48571428571432, 'Total_Revolving_Bal <= -0.824\\ngini = 0.234\\nsamples = 222\\nvalue = [192, 30]\\nclass = False'),\n",
       " Text(498.98076923076917, 38.82857142857142, '\\n  (...)  \\n'),\n",
       " Text(509.7115384615384, 38.82857142857142, '\\n  (...)  \\n'),\n",
       " Text(536.5384615384615, 194.14285714285717, 'Customer_Age <= -2.113\\ngini = 0.05\\nsamples = 471\\nvalue = [459, 12]\\nclass = False'),\n",
       " Text(525.8076923076923, 116.48571428571432, 'Total_Amt_Chng_Q4_Q1 <= 0.361\\ngini = 0.48\\nsamples = 5\\nvalue = [3, 2]\\nclass = False'),\n",
       " Text(520.4423076923076, 38.82857142857142, '\\n  (...)  \\n'),\n",
       " Text(531.1730769230769, 38.82857142857142, '\\n  (...)  \\n'),\n",
       " Text(547.2692307692307, 116.48571428571432, 'Avg_Open_To_Buy <= 1.706\\ngini = 0.042\\nsamples = 466\\nvalue = [456, 10]\\nclass = False'),\n",
       " Text(541.9038461538461, 38.82857142857142, '\\n  (...)  \\n'),\n",
       " Text(552.6346153846154, 38.82857142857142, '\\n  (...)  \\n')]"
      ]
     },
     "execution_count": 27,
     "metadata": {},
     "output_type": "execute_result"
    },
    {
     "data": {
      "image/png": "[encoded data removed]",
      "text/plain": [
       "<Figure size 720x720 with 1 Axes>"
      ]
     },
     "metadata": {
      "needs_background": "light"
     },
     "output_type": "display_data"
    }
   ],
   "source": [
    "dec_tree_model_final = DecisionTreeClassifier(max_depth=31, max_features='sqrt', min_weight_fraction_leaf=0.0)\n",
    "dec_tree_model_final.fit(x_train_lof, y_train_lof)\n",
    "y_pred_final: np.ndarray = dec_tree_model_final.predict(x_test_norm)\n",
    "\n",
    "bank_customers_features: list = list(bank_customers_clean.columns)\n",
    "del bank_customers_features[0:2]\n",
    "plt.figure(figsize=(10,10))\n",
    "tree.plot_tree(dec_tree_model_final, feature_names=bank_customers_features,\n",
    "               class_names=['False', 'True'], filled=True, max_depth=5)"
   ]
  },
  {
   "cell_type": "markdown",
   "id": "contained-shoulder",
   "metadata": {},
   "source": [
    "Here are our feature weights. The higher the number, the more important a feature is in  \n",
    "determining whether the customer is active or no longer banking."
   ]
  },
  {
   "cell_type": "code",
   "execution_count": 28,
   "id": "forward-edmonton",
   "metadata": {},
   "outputs": [
    {
     "data": {
      "text/plain": [
       "{'Customer_Age': 0.027008265553910244,\n",
       " 'Dependent_count': 0.013202619186705313,\n",
       " 'Months_on_book': 0.040322078322032225,\n",
       " 'Total_Relationship_Count': 0.0533625503198391,\n",
       " 'Months_Inactive_12_mon': 0.033382099725403014,\n",
       " 'Contacts_Count_12_mon': 0.021020320254726867,\n",
       " 'Credit_Limit': 0.05215181526786576,\n",
       " 'Total_Revolving_Bal': 0.04825736556856084,\n",
       " 'Avg_Open_To_Buy': 0.023573158065641853,\n",
       " 'Total_Amt_Chng_Q4_Q1': 0.09288625627352305,\n",
       " 'Total_Trans_Amt': 0.11422049273119372,\n",
       " 'Total_Trans_Ct': 0.16458570228245142,\n",
       " 'Total_Ct_Chng_Q4_Q1': 0.1608579202784604,\n",
       " 'Avg_Utilization_Ratio': 0.0718918936818965,\n",
       " 'Gender_F': 0.001421120733401687,\n",
       " 'Gender_M': 0.00650791644196727,\n",
       " 'Education_Level_bachelor': 0.005121544179050374,\n",
       " 'Education_Level_graduate': 0.0066561344299178715,\n",
       " 'Education_Level_high school': 0.005016085373573927,\n",
       " 'Education_Level_uneducated': 0.006428950400750781,\n",
       " 'Marital_Status_Divorced': 0.0021697843176778876,\n",
       " 'Marital_Status_Married': 0.010098974956407974,\n",
       " 'Marital_Status_Single': 0.015325042930683559,\n",
       " 'Marital_Status_Unknown': 0.004913619036456153,\n",
       " 'Income_Category_inUSD_40to60K': 0.00044871656817916625,\n",
       " 'Income_Category_inUSD_60to80K': 0.0008051162367013119,\n",
       " 'Income_Category_inUSD_80to120K': 0.0047498449807634275,\n",
       " 'Income_Category_inUSD_less_than_40K': 0.0045992138202429,\n",
       " 'Income_Category_inUSD_more_than_120K': 0.0032583212029955286,\n",
       " 'Card_Category_Blue': 0.0018959499914139753,\n",
       " 'Card_Category_Gold': 0.0011493205540834793,\n",
       " 'Card_Category_Platinum': 0.0,\n",
       " 'Card_Category_Silver': 0.002711806333522416}"
      ]
     },
     "execution_count": 28,
     "metadata": {},
     "output_type": "execute_result"
    }
   ],
   "source": [
    "feature_weights: np.ndarray = dec_tree_model_final.feature_importances_\n",
    "feature_importance: dict = dict(zip(bank_customers_features,feature_weights))\n",
    "feature_importance"
   ]
  },
  {
   "cell_type": "markdown",
   "id": "sonic-monday",
   "metadata": {},
   "source": [
    "# -----------------------------------"
   ]
  },
  {
   "cell_type": "markdown",
   "id": "universal-wallet",
   "metadata": {},
   "source": [
    "## Analysi and Conclusion"
   ]
  },
  {
   "cell_type": "markdown",
   "id": "impaired-biology",
   "metadata": {},
   "source": [
    "Overall, our decision tree model has done an alright job at classifying which customer are  \n",
    "active and which ones have left. Our balanced accuracy score was around 83%, which is fairly  \n",
    "good considering the great disbalance our data had. If we were to perform a downsampling on  \n",
    "active customers, to level the playing field in terms of numbers with non-active customers,  \n",
    "we might have gotten better results. Additionally, if given more time, we could have performed  \n",
    "a stringent feature selection process which would eliminate the weak variables and likely  \n",
    "simplify our model. After all, the simpler the model the better. Additionally, we could have  \n",
    "compared our decision tree model with a logistic regression model or a k-means clustering model  \n",
    "as alternatives.\n",
    "\n",
    "All in all, we can make several conclusions from our classification model. First, the bank  \n",
    "should look into the relationship between a customer's bank lifespan and the likelyhood they  \n",
    "stay active. There is even, possibly, a positive relationship between lifespan and total \n",
    "transactions. If that is the case, the bank should prioritize extending a customer's lifespan  \n",
    "with them. It would also make sense for the bank to dive deeper into their card categories.  \n",
    "As will be evident below, card category feature is not very important. It may be that the bank  \n",
    "ought to remake these card categories.\n",
    "\n",
    "#### Quick feature analysis\n",
    "\n",
    "As we can see below, our most important feature is 'Total_Trans_Ct'.  \n",
    "This is rather logical since active customers should make more transactions  \n",
    "than non-active ones. "
   ]
  },
  {
   "cell_type": "code",
   "execution_count": 29,
   "id": "likely-marathon",
   "metadata": {},
   "outputs": [
    {
     "data": {
      "text/plain": [
       "'Total_Trans_Ct'"
      ]
     },
     "execution_count": 29,
     "metadata": {},
     "output_type": "execute_result"
    }
   ],
   "source": [
    "max(feature_importance, key=feature_importance.get)"
   ]
  },
  {
   "cell_type": "markdown",
   "id": "ideal-christian",
   "metadata": {},
   "source": [
    "Now, let's examine the ranking of feature importance."
   ]
  },
  {
   "cell_type": "code",
   "execution_count": 30,
   "id": "impressed-sandwich",
   "metadata": {},
   "outputs": [
    {
     "data": {
      "text/plain": [
       "['Total_Trans_Ct',\n",
       " 'Total_Ct_Chng_Q4_Q1',\n",
       " 'Total_Trans_Amt',\n",
       " 'Total_Amt_Chng_Q4_Q1',\n",
       " 'Avg_Utilization_Ratio',\n",
       " 'Total_Relationship_Count',\n",
       " 'Credit_Limit',\n",
       " 'Total_Revolving_Bal',\n",
       " 'Months_on_book',\n",
       " 'Months_Inactive_12_mon',\n",
       " 'Customer_Age',\n",
       " 'Avg_Open_To_Buy',\n",
       " 'Contacts_Count_12_mon',\n",
       " 'Marital_Status_Single',\n",
       " 'Dependent_count',\n",
       " 'Marital_Status_Married',\n",
       " 'Education_Level_graduate',\n",
       " 'Gender_M',\n",
       " 'Education_Level_uneducated',\n",
       " 'Education_Level_bachelor',\n",
       " 'Education_Level_high school',\n",
       " 'Marital_Status_Unknown',\n",
       " 'Income_Category_inUSD_80to120K',\n",
       " 'Income_Category_inUSD_less_than_40K',\n",
       " 'Income_Category_inUSD_more_than_120K',\n",
       " 'Card_Category_Silver',\n",
       " 'Marital_Status_Divorced',\n",
       " 'Card_Category_Blue',\n",
       " 'Gender_F',\n",
       " 'Card_Category_Gold',\n",
       " 'Income_Category_inUSD_60to80K',\n",
       " 'Income_Category_inUSD_40to60K',\n",
       " 'Card_Category_Platinum']"
      ]
     },
     "execution_count": 30,
     "metadata": {},
     "output_type": "execute_result"
    }
   ],
   "source": [
    "sorted(feature_importance, key=feature_importance.get, reverse=True)"
   ]
  },
  {
   "cell_type": "markdown",
   "id": "charged-coalition",
   "metadata": {},
   "source": [
    "We can see that our card category features, some education level ones, and income category features are  \n",
    "not very important to the model. On the other hand, the change in transactions count is very influential  \n",
    "in our model. Same with the utilization ratio. All of this makes sense.  \n",
    "It also must be noted the amount of bank products used is very important. It may be that the more products  \n",
    "a customer has, the more likely they are to remain a customer. Similarly, it may very well be that the  \n",
    "longer a customer spends with the bank, they more likely they are to remain an active customer."
   ]
  }
 ],
 "metadata": {
  "kernelspec": {
   "display_name": "Python 3",
   "language": "python",
   "name": "python3"
  },
  "language_info": {
   "codemirror_mode": {
    "name": "ipython",
    "version": 3
   },
   "file_extension": ".py",
   "mimetype": "text/x-python",
   "name": "python",
   "nbconvert_exporter": "python",
   "pygments_lexer": "ipython3",
   "version": "3.8.5"
  }
 },
 "nbformat": 4,
 "nbformat_minor": 5
}
